{
 "cells": [
  {
   "cell_type": "markdown",
   "id": "4d340057",
   "metadata": {},
   "source": [
    "Table: Person\n",
    "\n",
    "+-------------+---------+\n",
    "| Column Name | Type    |\n",
    "+-------------+---------+\n",
    "| id          | int     |\n",
    "| email       | varchar |\n",
    "+-------------+---------+\n",
    "id is the primary key (column with unique values) for this table.\n",
    "Each row of this table contains an email. The emails will not contain uppercase letters.\n",
    " \n",
    "\n",
    "Write a solution to report all the duplicate emails. Note that it's guaranteed that the email field is not NULL.\n",
    "\n",
    "Return the result table in any order.\n",
    "\n",
    "The result format is in the following example.\n",
    "\n",
    " \n",
    "\n",
    "Example 1:\n",
    "\n",
    "Input: \n",
    "Person table:\n",
    "+----+---------+\n",
    "| id | email   |\n",
    "+----+---------+\n",
    "| 1  | a@b.com |\n",
    "| 2  | c@d.com |\n",
    "| 3  | a@b.com |\n",
    "+----+---------+\n",
    "Output: \n",
    "+---------+\n",
    "| Email   |\n",
    "+---------+\n",
    "| a@b.com |\n",
    "+---------+\n",
    "Explanation: a@b.com is repeated two times."
   ]
  },
  {
   "cell_type": "code",
   "execution_count": 7,
   "id": "0c739375",
   "metadata": {},
   "outputs": [
    {
     "data": {
      "text/plain": [
       "'a@b.com'"
      ]
     },
     "execution_count": 7,
     "metadata": {},
     "output_type": "execute_result"
    }
   ],
   "source": [
    "import pandas as pd\n",
    "\n",
    "data = {\"id\" : [1,2,3],\n",
    "        \"email\" : [\"a@b.com\", \"c@d.com\",\"a@b.com\"]\n",
    "       }\n",
    "\n",
    "person = pd.DataFrame(data)\n",
    "\n",
    "email_cnt =person.groupby('email').filter(lambda x: len(x)>1)\n",
    "output = email_cnt.email.unique()\n",
    "\n",
    "output[0]"
   ]
  },
  {
   "cell_type": "code",
   "execution_count": 19,
   "id": "2659d5a7",
   "metadata": {},
   "outputs": [
    {
     "name": "stdout",
     "output_type": "stream",
     "text": [
      "+-------+\n",
      "|  email|\n",
      "+-------+\n",
      "|a@b.com|\n",
      "+-------+\n",
      "\n",
      "+-------+\n",
      "|  email|\n",
      "+-------+\n",
      "|a@b.com|\n",
      "+-------+\n",
      "\n"
     ]
    }
   ],
   "source": [
    "import os,sys\n",
    "import pandas as pd\n",
    "from pyspark.sql import SparkSession\n",
    "from pyspark.sql.functions import *\n",
    "\n",
    "os.environ['PYSPARK_PYTHON'] = sys.executable\n",
    "os.environ['PYSPARK_DRIVER_PYTHON'] = sys.executable\n",
    "\n",
    "spark = SparkSession.builder.master('local[*]').getOrCreate()\n",
    "\n",
    "data = {\"id\" : [1,2,3],\n",
    "        \"email\" : [\"a@b.com\", \"c@d.com\",\"a@b.com\"]\n",
    "       }\n",
    "\n",
    "person = pd.DataFrame(data)\n",
    "\n",
    "person = spark.createDataFrame(person) \n",
    "\n",
    "person.createOrReplaceTempView('person')\n",
    "\n",
    "output_df =  spark.sql(\"\"\"\n",
    "select email from (\n",
    "select email, count(1) as cnt\n",
    "from person\n",
    "group by email\n",
    "having count(1)<>1 )A\n",
    "\"\"\")\n",
    "\n",
    "output_df.show()\n",
    "\n",
    "\n",
    "email_cnt = person.groupBy('email').count()\n",
    "email_filter = email_cnt.filter(email_cnt['count']!=1).select('email')\n",
    "email_filter.show()"
   ]
  },
  {
   "cell_type": "code",
   "execution_count": null,
   "id": "5ed29432",
   "metadata": {},
   "outputs": [],
   "source": []
  }
 ],
 "metadata": {
  "kernelspec": {
   "display_name": "pyspark-env",
   "language": "python",
   "name": "pyspark-env"
  },
  "language_info": {
   "codemirror_mode": {
    "name": "ipython",
    "version": 3
   },
   "file_extension": ".py",
   "mimetype": "text/x-python",
   "name": "python",
   "nbconvert_exporter": "python",
   "pygments_lexer": "ipython3",
   "version": "3.11.5"
  }
 },
 "nbformat": 4,
 "nbformat_minor": 5
}
