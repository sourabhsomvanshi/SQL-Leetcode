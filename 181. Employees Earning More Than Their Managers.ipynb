{
 "cells": [
  {
   "cell_type": "markdown",
   "id": "cd72b11d",
   "metadata": {},
   "source": [
    "Table: Employee\n",
    "\n",
    "+-------------+---------+\n",
    "| Column Name | Type    |\n",
    "+-------------+---------+\n",
    "| id          | int     |\n",
    "| name        | varchar |\n",
    "| salary      | int     |\n",
    "| managerId   | int     |\n",
    "+-------------+---------+\n",
    "id is the primary key (column with unique values) for this table.\n",
    "Each row of this table indicates the ID of an employee, their name, salary, and the ID of their manager.\n",
    " \n",
    "\n",
    "Write a solution to find the employees who earn more than their managers.\n",
    "\n",
    "Return the result table in any order.\n",
    "\n",
    "The result format is in the following example.\n",
    "\n",
    " \n",
    "\n",
    "Example 1:\n",
    "\n",
    "Input: \n",
    "Employee table:\n",
    "+----+-------+--------+-----------+\n",
    "| id | name  | salary | managerId |\n",
    "+----+-------+--------+-----------+\n",
    "| 1  | Joe   | 70000  | 3         |\n",
    "| 2  | Henry | 80000  | 4         |\n",
    "| 3  | Sam   | 60000  | Null      |\n",
    "| 4  | Max   | 90000  | Null      |\n",
    "+----+-------+--------+-----------+\n",
    "Output: \n",
    "+----------+\n",
    "| Employee |\n",
    "+----------+\n",
    "| Joe      |\n",
    "+----------+\n",
    "Explanation: Joe is the only employee who earns more than his manager."
   ]
  },
  {
   "cell_type": "code",
   "execution_count": 16,
   "id": "c5ce8f73",
   "metadata": {},
   "outputs": [
    {
     "data": {
      "text/html": [
       "<div>\n",
       "<style scoped>\n",
       "    .dataframe tbody tr th:only-of-type {\n",
       "        vertical-align: middle;\n",
       "    }\n",
       "\n",
       "    .dataframe tbody tr th {\n",
       "        vertical-align: top;\n",
       "    }\n",
       "\n",
       "    .dataframe thead th {\n",
       "        text-align: right;\n",
       "    }\n",
       "</style>\n",
       "<table border=\"1\" class=\"dataframe\">\n",
       "  <thead>\n",
       "    <tr style=\"text-align: right;\">\n",
       "      <th></th>\n",
       "      <th>employee</th>\n",
       "    </tr>\n",
       "  </thead>\n",
       "  <tbody>\n",
       "    <tr>\n",
       "      <th>0</th>\n",
       "      <td>Joe</td>\n",
       "    </tr>\n",
       "  </tbody>\n",
       "</table>\n",
       "</div>"
      ],
      "text/plain": [
       "  employee\n",
       "0      Joe"
      ]
     },
     "execution_count": 16,
     "metadata": {},
     "output_type": "execute_result"
    }
   ],
   "source": [
    "import pandas as pd\n",
    "\n",
    "employee_data = {\n",
    "    \"id\": [1,2,3,4], \n",
    "    \"name\": [\"Joe\",\"Henry\",\"Sma\",\"Max\"],\n",
    "    \"salary\": [70000, 80000, 60000, 90000],\n",
    "    \"managerId\": [3,4, None, None]\n",
    "}\n",
    "\n",
    "employee = pd.DataFrame(employee_data)\n",
    "employee.head()\n",
    "\n",
    "merged= employee.merge(employee, left_on='managerId', right_on='id', how='inner')\n",
    "output_df = merged[merged['salary_x'] > merged['salary_y']][['name_x']]\n",
    "output_df = output_df.rename(columns={'name_x':'employee'})\n",
    "output_df.head()"
   ]
  },
  {
   "cell_type": "code",
   "execution_count": 34,
   "id": "32f93a43",
   "metadata": {},
   "outputs": [
    {
     "name": "stdout",
     "output_type": "stream",
     "text": [
      "+--------+\n",
      "|Employee|\n",
      "+--------+\n",
      "|     Joe|\n",
      "+--------+\n",
      "\n",
      "+--------+\n",
      "|Employee|\n",
      "+--------+\n",
      "|     Joe|\n",
      "+--------+\n",
      "\n"
     ]
    }
   ],
   "source": [
    "import os,sys\n",
    "import pandas as pd\n",
    "from pyspark.sql import SparkSession\n",
    "from pyspark.sql.functions import *\n",
    "\n",
    "os.environ['PYSPARK_PYTHON'] = sys.executable\n",
    "os.environ['PYSPARK_DRIVER_PYTHON'] = sys.executable\n",
    "\n",
    "spark = SparkSession.builder.master('local[*]').getOrCreate()\n",
    "\n",
    "employee_data = {\n",
    "    \"id\": [1,2,3,4], \n",
    "    \"name\": [\"Joe\",\"Henry\",\"Sma\",\"Max\"],\n",
    "    \"salary\": [70000, 80000, 60000, 90000],\n",
    "    \"managerId\": [3,4, None, None]\n",
    "}\n",
    "\n",
    "employee = pd.DataFrame(employee_data)\n",
    "\n",
    "employee = spark.createDataFrame(employee) \n",
    "\n",
    "employee.createOrReplaceTempView('employee')\n",
    "\n",
    "output_df =  spark.sql(\"\"\"\n",
    "select A.name as Employee from (\n",
    "select e1.id,e1.name,e1.salary,e2.id as manager_id, e2.salary\n",
    "from employee e1 join employee e2\n",
    "on e1.managerId=e2.id\n",
    "where e1.salary>e2.salary)A\n",
    "\"\"\")\n",
    "\n",
    "output_df.show()\n",
    "\n",
    "\n",
    "merged_df = employee.alias('e1').join(employee.alias('e2'), col('e1.managerId')==col('e2.id'), how='inner')\\\n",
    ".select(col('e1.id'), col('e1.name'), col('e1.salary'), col('e2.id').alias('manager_id'), col('e2.salary'))\\\n",
    ".filter(col('e1.salary')>col('e2.salary'))\n",
    "\n",
    "output_df = merged_df.select(merged_df.name.alias('Employee'))\n",
    "output_df.show()\n",
    "\n"
   ]
  },
  {
   "cell_type": "code",
   "execution_count": null,
   "id": "cf91f16d",
   "metadata": {},
   "outputs": [],
   "source": []
  }
 ],
 "metadata": {
  "kernelspec": {
   "display_name": "pyspark-env",
   "language": "python",
   "name": "pyspark-env"
  },
  "language_info": {
   "codemirror_mode": {
    "name": "ipython",
    "version": 3
   },
   "file_extension": ".py",
   "mimetype": "text/x-python",
   "name": "python",
   "nbconvert_exporter": "python",
   "pygments_lexer": "ipython3",
   "version": "3.11.5"
  }
 },
 "nbformat": 4,
 "nbformat_minor": 5
}
